{
  "nbformat": 4,
  "nbformat_minor": 0,
  "metadata": {
    "colab": {
      "private_outputs": true,
      "provenance": [],
      "collapsed_sections": [
        "vncDsAP0Gaoa",
        "FJNUwmbgGyua",
        "w6K7xa23Elo4",
        "yQaldy8SH6Dl",
        "PH-0ReGfmX4f",
        "mDgbUHAGgjLW",
        "O_i_v8NEhb9l",
        "HhfV-JJviCcP",
        "Y3lxredqlCYt",
        "3RnN4peoiCZX",
        "x71ZqKXriCWQ",
        "7hBIi_osiCS2",
        "JlHwYmJAmNHm",
        "35m5QtbWiB9F",
        "PoPl-ycgm1ru",
        "H0kj-8xxnORC",
        "nA9Y7ga8ng1Z",
        "PBTbrJXOngz2",
        "u3PMJOP6ngxN",
        "dauF4eBmngu3",
        "bKJF3rekwFvQ",
        "MSa1f5Uengrz",
        "GF8Ens_Soomf",
        "0wOQAZs5pc--",
        "K5QZ13OEpz2H",
        "lQ7QKXXCp7Bj",
        "448CDAPjqfQr",
        "KSlN3yHqYklG",
        "t6dVpIINYklI",
        "ijmpgYnKYklI",
        "-JiQyfWJYklI",
        "EM7whBJCYoAo",
        "fge-S5ZAYoAp",
        "85gYPyotYoAp",
        "RoGjAbkUYoAp",
        "4Of9eVA-YrdM",
        "iky9q4vBYrdO",
        "F6T5p64dYrdO",
        "y-Ehk30pYrdP",
        "bamQiAODYuh1",
        "QHF8YVU7Yuh3",
        "GwzvFGzlYuh3",
        "qYpmQ266Yuh3",
        "OH-pJp9IphqM",
        "bbFf2-_FphqN",
        "_ouA3fa0phqN",
        "Seke61FWphqN",
        "PIIx-8_IphqN",
        "t27r6nlMphqO",
        "r2jJGEOYphqO",
        "b0JNsNcRphqO",
        "BZR9WyysphqO",
        "jj7wYXLtphqO",
        "eZrbJ2SmphqO",
        "rFu4xreNphqO",
        "YJ55k-q6phqO",
        "gCFgpxoyphqP",
        "OVtJsKN_phqQ",
        "lssrdh5qphqQ",
        "U2RJ9gkRphqQ",
        "1M8mcRywphqQ",
        "tgIPom80phqQ",
        "JMzcOPDDphqR",
        "x-EpHcCOp1ci",
        "X_VqEhTip1ck",
        "8zGJKyg5p1ck",
        "PVzmfK_Ep1ck",
        "n3dbpmDWp1ck",
        "ylSl6qgtp1ck",
        "ZWILFDl5p1ck",
        "M7G43BXep1ck",
        "Ag9LCva-p1cl",
        "E6MkPsBcp1cl",
        "2cELzS2fp1cl",
        "3MPXvC8up1cl",
        "NC_X3p0fY2L0",
        "UV0SzAkaZNRQ",
        "YPEH6qLeZNRQ",
        "q29F0dvdveiT",
        "EXh0U9oCveiU",
        "22aHeOlLveiV",
        "JcMwzZxoAimU",
        "8G2x9gOozGDZ",
        "gCX9965dhzqZ",
        "gIfDvo9L0UH2"
      ],
      "include_colab_link": true
    },
    "kernelspec": {
      "name": "python3",
      "display_name": "Python 3"
    },
    "language_info": {
      "name": "python"
    }
  },
  "cells": [
    {
      "cell_type": "markdown",
      "metadata": {
        "id": "view-in-github",
        "colab_type": "text"
      },
      "source": [
        "<a href=\"https://colab.research.google.com/github/MdAfasar27/Global-Terrorism-Dataset-Exploratory-Data-Analysis/blob/main/Global_Terrorism_Dataset_EDA_.ipynb\" target=\"_parent\"><img src=\"https://colab.research.google.com/assets/colab-badge.svg\" alt=\"Open In Colab\"/></a>"
      ]
    },
    {
      "cell_type": "markdown",
      "source": [
        "# **Project Name**    - **Global Terrorism Dataset**\n",
        "\n"
      ],
      "metadata": {
        "id": "vncDsAP0Gaoa"
      }
    },
    {
      "cell_type": "markdown",
      "source": [
        "##### **Project Type**    - Exploratory Data Analysis\n",
        "##### **Contribution**    - Individual\n",
        "##### **Team Member 1 -     Md Afasar**\n"
      ],
      "metadata": {
        "id": "beRrZCGUAJYm"
      }
    },
    {
      "cell_type": "markdown",
      "source": [
        "# **Project Summary -**"
      ],
      "metadata": {
        "id": "FJNUwmbgGyua"
      }
    },
    {
      "cell_type": "markdown",
      "source": [
        "- **Project Overview**:\n",
        "  - **Database**: The Global Terrorism Database (GTD) is an open-source resource providing comprehensive information on terrorist attacks worldwide from 1970 to 2017.\n",
        "  - **Scope**: The dataset includes over 180,000 recorded attacks, offering an opportunity to explore and analyze patterns, trends, and characteristics of terrorist activities.\n",
        "  - **Objective**: Uncover key findings and insights to inform stakeholders and enhance the understanding of terrorism.\n",
        "\n",
        "- **Methodology**:\n",
        "  - **Data Manipulation**: Use Pandas for data manipulation and aggregation to extract relevant information and create meaningful datasets.\n",
        "  - **Visualization Development**: Employ Matplotlib and Seaborn to create at least five visualizations illustrating the behavior of the target variable and relationships between different factors.\n",
        "\n",
        "- **Focus Areas for Visualization**:\n",
        "  - **Frequency and Distribution**: Analyze attacks over time and across different geographies.\n",
        "  - **Attack Types**: Identify the most common types of attacks.\n",
        "  - **Organizations**: Highlight the terrorist organizations responsible for attacks.\n",
        "  - **Casualties**: Examine the number of casualties resulting from attacks.\n",
        "\n",
        "- **Key Assumptions**:\n",
        "  - **Middle Eastern Countries**: Hypothesize that these countries are more prone to terrorist attacks.\n",
        "  - **Testing Assumptions**: Use statistical techniques and visualizations to validate this and other assumptions.\n",
        "\n",
        "- **Additional Factors**:\n",
        "  - **Organization Type**: Explore the impact of different types of terrorist organizations.\n",
        "  - **Attack Targets**: Investigate the targets of attacks.\n",
        "  - **Regional Analysis**: Examine how different regions are affected by terrorism.\n",
        "\n",
        "- **Stakeholder Benefits**:\n",
        "  - **Policymakers**: Develop more effective strategies to prevent and respond to terrorist attacks.\n",
        "  - **Law Enforcement Agencies**: Enhance response plans based on identified trends and patterns.\n",
        "  - **Researchers**: Gain a comprehensive overview of terrorism for future studies.\n",
        "\n",
        "- **Analysis Review**:\n",
        "  - **Rigorous Review**: Regularly review and refine assumptions and findings to ensure accuracy and rigor in the analysis.\n",
        "\n",
        "- **Final Report**:\n",
        "  - **Key Findings**: Present insights and recommendations.\n",
        "  - **Visualizations**: Provide clear and informative visualizations.\n",
        "  - **Recommendations**: Offer strategies for stakeholders to understand and combat terrorism.\n",
        "\n",
        "- **Conclusion**:\n",
        "  - **Contribution**: Enhance understanding of terrorism through comprehensive analysis of the GTD.\n",
        "  - **Techniques**: Utilize data manipulation, visualization, and statistical methods.\n",
        "  - **Impact**: Inform stakeholders to help develop strategies to prevent and respond to terrorist attacks.\n"
      ],
      "metadata": {
        "id": "F6v_1wHtG2nS"
      }
    },
    {
      "cell_type": "markdown",
      "source": [
        "# **GitHub Link -**"
      ],
      "metadata": {
        "id": "w6K7xa23Elo4"
      }
    },
    {
      "cell_type": "markdown",
      "source": [
        "Provide your GitHub Link here."
      ],
      "metadata": {
        "id": "h1o69JH3Eqqn"
      }
    },
    {
      "cell_type": "markdown",
      "source": [
        "# **Problem Statement**\n"
      ],
      "metadata": {
        "id": "yQaldy8SH6Dl"
      }
    },
    {
      "cell_type": "markdown",
      "source": [
        " The Global Terrorism Database (GTD) is an open-source database including information on terrorist attacks around the world from 1970 through 2017. The GTD includes systematic data on domestic as well as international terrorist incidents that have occurred during this time period and now includes more than 180,000 attacks. The database is maintained by researchers at the National Consortium for the Study of Terrorism and Responses to Terrorism (START), headquartered at the University of Maryland. Explore and analyze the data to discover key findings pertaining to terrorist activities."
      ],
      "metadata": {
        "id": "DpeJGUA3kjGy"
      }
    },
    {
      "cell_type": "markdown",
      "source": [
        "#### **Define Your Business Objective?**"
      ],
      "metadata": {
        "id": "PH-0ReGfmX4f"
      }
    },
    {
      "cell_type": "markdown",
      "source": [
        "The primary business objective of this project is to leverage the Global Terrorism Database (GTD) to gain actionable insights into the patterns, trends, and characteristics of terrorist activities worldwide. These insights aim to inform and support stakeholders, including policymakers, law enforcement agencies, and researchers, in their efforts to understand, prevent, and respond to terrorism.\n",
        "Specific Goals:\n",
        "1.\tIdentify Trends and Patterns:\n",
        "o\tAnalyze the frequency and distribution of terrorist attacks over time and across different geographic regions.\n",
        "o\tDetermine the most common types of terrorist attacks and the organizations responsible.\n",
        "2.\tValidate Assumptions:\n",
        "o\tTest the hypothesis that Middle Eastern countries are more prone to terrorist attacks using statistical techniques and visualizations.\n",
        "o\tExplore additional factors that may influence the likelihood and impact of terrorist attacks, such as the type of organization, target, and region.\n",
        "3.\tDevelop Visualizations:\n",
        "o\tCreate at least five comprehensive visualizations to illustrate key findings, making complex data more accessible and understandable for stakeholders.\n",
        "4.\tInform Stakeholder Strategies:\n",
        "o\tProvide detailed insights and recommendations that stakeholders can use to develop more effective counter-terrorism strategies.\n",
        "o\tEnhance the understanding of terrorism patterns to improve prevention, preparedness, and response measures.\n",
        "5.\tHighlight Data Strengths and Limitations:\n",
        "o\tOffer a thorough overview of the GTD, including its strengths and limitations, and suggest areas for future research to improve data quality and analysis\n"
      ],
      "metadata": {
        "id": "PhDvGCAqmjP1"
      }
    },
    {
      "cell_type": "markdown",
      "source": [
        "# **General Guidelines** : -  "
      ],
      "metadata": {
        "id": "mDgbUHAGgjLW"
      }
    },
    {
      "cell_type": "markdown",
      "source": [
        "1.   Well-structured, formatted, and commented code is required.\n",
        "2.   Exception Handling, Production Grade Code & Deployment Ready Code will be a plus. Those students will be awarded some additional credits.\n",
        "     \n",
        "     The additional credits will have advantages over other students during Star Student selection.\n",
        "       \n",
        "             [ Note: - Deployment Ready Code is defined as, the whole .ipynb notebook should be executable in one go\n",
        "                       without a single error logged. ]\n",
        "\n",
        "3.   Each and every logic should have proper comments.\n",
        "4. You may add as many number of charts you want. Make Sure for each and every chart the following format should be answered.\n",
        "        \n",
        "\n",
        "```\n",
        "# Chart visualization code\n",
        "```\n",
        "            \n",
        "\n",
        "*   Why did you pick the specific chart?\n",
        "*   What is/are the insight(s) found from the chart?\n",
        "* Will the gained insights help creating a positive business impact?\n",
        "Are there any insights that lead to negative growth? Justify with specific reason.\n",
        "\n",
        "5. You have to create at least 20 logical & meaningful charts having important insights.\n",
        "\n",
        "\n",
        "[ Hints : - Do the Vizualization in  a structured way while following \"UBM\" Rule.\n",
        "\n",
        "U - Univariate Analysis,\n",
        "\n",
        "B - Bivariate Analysis (Numerical - Categorical, Numerical - Numerical, Categorical - Categorical)\n",
        "\n",
        "M - Multivariate Analysis\n",
        " ]\n",
        "\n",
        "\n",
        "\n"
      ],
      "metadata": {
        "id": "ZrxVaUj-hHfC"
      }
    },
    {
      "cell_type": "markdown",
      "source": [
        "# ***Let's Begin !***"
      ],
      "metadata": {
        "id": "O_i_v8NEhb9l"
      }
    },
    {
      "cell_type": "markdown",
      "source": [
        "## ***1. Know Your Data***"
      ],
      "metadata": {
        "id": "HhfV-JJviCcP"
      }
    },
    {
      "cell_type": "markdown",
      "source": [
        "### Import Libraries"
      ],
      "metadata": {
        "id": "Y3lxredqlCYt"
      }
    },
    {
      "cell_type": "code",
      "source": [
        "# Import Libraries\n",
        "import pandas as pd    # Pandas for data manipulation, aggregation\n",
        "import numpy as np     # NumPy for computationally efficient operations\n",
        "import matplotlib.pyplot as plt      #Matplotlib and Seaborn for visualisation and behaviour with respect to the target variable\n",
        "import seaborn as sns\n",
        "from wordcloud import WordCloud\n",
        "# Setting display options\n",
        "pd.set_option('display.max_columns', None)\n"
      ],
      "metadata": {
        "id": "M8Vqi-pPk-HR"
      },
      "execution_count": null,
      "outputs": []
    },
    {
      "cell_type": "markdown",
      "source": [
        "### Dataset Loading"
      ],
      "metadata": {
        "id": "3RnN4peoiCZX"
      }
    },
    {
      "cell_type": "code",
      "source": [
        "# Load Dataset\n",
        "data_path = '/content/sample_data/Global Terrorism Data.csv'\n",
        "df = pd.read_csv(data_path, encoding='ISO-8859-1')\n",
        "\n"
      ],
      "metadata": {
        "id": "4CkvbW_SlZ_R"
      },
      "execution_count": null,
      "outputs": []
    },
    {
      "cell_type": "markdown",
      "source": [
        "### Dataset First View"
      ],
      "metadata": {
        "id": "x71ZqKXriCWQ"
      }
    },
    {
      "cell_type": "code",
      "source": [
        "# Dataset First Look\n",
        "df.head()"
      ],
      "metadata": {
        "id": "LWNFOSvLl09H"
      },
      "execution_count": null,
      "outputs": []
    },
    {
      "cell_type": "markdown",
      "source": [
        "### Dataset Rows & Columns count"
      ],
      "metadata": {
        "id": "7hBIi_osiCS2"
      }
    },
    {
      "cell_type": "code",
      "source": [
        "# Dataset Rows & Columns count\n",
        "df.shape"
      ],
      "metadata": {
        "id": "Kllu7SJgmLij"
      },
      "execution_count": null,
      "outputs": []
    },
    {
      "cell_type": "markdown",
      "source": [
        "### Dataset Information"
      ],
      "metadata": {
        "id": "JlHwYmJAmNHm"
      }
    },
    {
      "cell_type": "code",
      "source": [
        "# Dataset Info\n",
        "#Select and display information about columns in the DataFrame 'df'\n",
        "#that have data types either 'object' (typically strings) or int64' (integer numbers).\n",
        "# This code filters the DataFrame to include only these specific data types,\n",
        "# and then uses the info() method to provide a summary of the selected columns.\n",
        "\n",
        "df.select_dtypes(include=[\"object\",'int64']).info()"
      ],
      "metadata": {
        "id": "e9hRXRi6meOf"
      },
      "execution_count": null,
      "outputs": []
    },
    {
      "cell_type": "markdown",
      "source": [
        "#### Duplicate Values"
      ],
      "metadata": {
        "id": "35m5QtbWiB9F"
      }
    },
    {
      "cell_type": "code",
      "source": [
        "# Dataset Duplicate Value Count\n",
        "duplicate_counts= df.duplicated().sum()\n",
        "\n",
        "# Displaye Dataset Duplicate Value Count\n",
        "print(\"Number of Duplicate Value Count :\",duplicate_counts)"
      ],
      "metadata": {
        "id": "1sLdpKYkmox0"
      },
      "execution_count": null,
      "outputs": []
    },
    {
      "cell_type": "markdown",
      "source": [
        "#### Missing Values/Null Values"
      ],
      "metadata": {
        "id": "PoPl-ycgm1ru"
      }
    },
    {
      "cell_type": "code",
      "source": [
        "# Missing Values/Null Values Count\n",
        "df.isnull().sum()"
      ],
      "metadata": {
        "id": "GgHWkxvamxVg"
      },
      "execution_count": null,
      "outputs": []
    },
    {
      "cell_type": "code",
      "source": [
        "# Visualizing the missing values\n",
        "\n",
        "plt.figure(figsize=(12, 8))  #setting the figure size for visualization\n",
        "\n",
        "sns.heatmap(df.isnull(), cbar=False, cmap='viridis')  # creating heatmap to visualise missing values in the Dataframe\n",
        "\n",
        "plt.title('Missing Values Heatmap')  #title of visualization\n",
        "\n",
        "plt.show()   # display the visualization"
      ],
      "metadata": {
        "id": "3q5wnI3om9sJ"
      },
      "execution_count": null,
      "outputs": []
    },
    {
      "cell_type": "markdown",
      "source": [
        "### What did you know about your dataset?"
      ],
      "metadata": {
        "id": "H0kj-8xxnORC"
      }
    },
    {
      "cell_type": "markdown",
      "source": [
        "The dataset has 34475 rows , 135 columns"
      ],
      "metadata": {
        "id": "gfoNAAC-nUe_"
      }
    },
    {
      "cell_type": "markdown",
      "source": [
        "## ***2. Understanding Your Variables***"
      ],
      "metadata": {
        "id": "nA9Y7ga8ng1Z"
      }
    },
    {
      "cell_type": "code",
      "source": [
        "# Dataset Columns\n",
        "df.columns"
      ],
      "metadata": {
        "id": "j7xfkqrt5Ag5"
      },
      "execution_count": null,
      "outputs": []
    },
    {
      "cell_type": "code",
      "source": [
        "# Dataset Describe\n",
        "df.describe()"
      ],
      "metadata": {
        "id": "DnOaZdaE5Q5t"
      },
      "execution_count": null,
      "outputs": []
    },
    {
      "cell_type": "markdown",
      "source": [
        "### Variables Description"
      ],
      "metadata": {
        "id": "PBTbrJXOngz2"
      }
    },
    {
      "cell_type": "markdown",
      "source": [
        " here's the description of the variables in the Global Terrorism Database (GTD) dataset:\n",
        "\n",
        "1. **iyear**: The year in which the incident occurred.\n",
        "2. **imonth**: The month in which the incident occurred.\n",
        "3. **iday**: The day of the month on which the incident occurred.\n",
        "4. **country_txt**: The name of the country where the incident occurred.\n",
        "5. **region_txt**: The name of the region where the incident occurred.\n",
        "6. **city**: The name of the city or location where the incident occurred.\n",
        "7. **attacktype1_txt**: The general method of attack used in the incident (e.g., Bombing/Explosion, Armed Assault, Assassination).\n",
        "8. **targtype1_txt**: The general type of target/victim in the incident (e.g., Private Citizens & Property, Military, Government).\n",
        "9. **weaptype1_txt**: The general type of weapon used in the incident (e.g., Explosives/Bombs/Dynamite, Firearms, Incendiary).\n",
        "10. **nkill**: The number of confirmed fatalities in the incident.\n",
        "11. **nwound**: The number of confirmed non-fatal injuries in the incident.\n",
        "12. **natlty1_txt**: The nationality of the target/victim in the incident.\n",
        "13. **gname**: The name of the terrorist group responsible for the incident.\n",
        "14. **claimed**: Indicates whether the terrorist group claimed responsibility for the incident (1: Yes, 0: No).\n",
        "15. **success**: Indicates whether the attack was successful (1: Yes, 0: No).\n",
        "16. **casualties**: The total number of casualties (fatalities + non-fatal injuries) in the incident.\n",
        "\n",
        "These variables provide key information about each terrorist incident, including details about the location, method of attack, targets, casualties, and perpetrators. Analyzing these variables can help in understanding patterns, trends, and impacts of terrorism globally."
      ],
      "metadata": {
        "id": "aJV4KIxSnxay"
      }
    },
    {
      "cell_type": "markdown",
      "source": [
        "### Check Unique Values for each variable."
      ],
      "metadata": {
        "id": "u3PMJOP6ngxN"
      }
    },
    {
      "cell_type": "code",
      "source": [
        "# Check Unique Values for each variable.\n",
        "for column in df.columns:\n",
        "    print(f'NUmber of unique value in {column}: {df[column].nunique()} unique values')"
      ],
      "metadata": {
        "id": "zms12Yq5n-jE"
      },
      "execution_count": null,
      "outputs": []
    },
    {
      "cell_type": "markdown",
      "source": [
        "## 3. ***Data Wrangling***"
      ],
      "metadata": {
        "id": "dauF4eBmngu3"
      }
    },
    {
      "cell_type": "markdown",
      "source": [
        "### Data Wrangling Code"
      ],
      "metadata": {
        "id": "bKJF3rekwFvQ"
      }
    },
    {
      "cell_type": "code",
      "source": [
        "# Write your code to make your dataset analysis ready.\n",
        "\n",
        "# Creating a new column for total casualties\n",
        "df['casualties'] = df['nkill'] + df['nwound']\n",
        "\n",
        "# Dropping irrelevant columns for this analysis\n",
        "columns_to_drop = ['eventid', 'provstate', 'latitude', 'longitude', 'specificity', 'doubtterr', 'alternative']\n",
        "df = df.drop(columns=columns_to_drop, axis=1)"
      ],
      "metadata": {
        "id": "wk-9a2fpoLcV"
      },
      "execution_count": null,
      "outputs": []
    },
    {
      "cell_type": "markdown",
      "source": [
        "### What all manipulations have you done and insights you found?"
      ],
      "metadata": {
        "id": "MSa1f5Uengrz"
      }
    },
    {
      "cell_type": "markdown",
      "source": [
        "1 Data Cleaning:\n",
        "\n",
        "Handling missing values: Check for missing values in remaining columns and decide on appropriate strategies like imputation or removal.\n",
        "Data type conversions: Ensure columns have appropriate data types. For example, date columns should be in datetime format.\n",
        "Removing duplicates: Check for and remove any duplicate rows in the dataset.\n",
        "\n",
        "2 Exploratory Data Analysis (EDA):\n",
        "Distribution of target variable (casualties): Explore the distribution of total casualties to understand its range and variability.\n",
        "Temporal trends: Analyze the number of incidents over time (year, month, day) to identify any patterns or trends.\n",
        "Geographic analysis: Explore the distribution of incidents across different regions or countries.\n",
        "Attack types: Investigate the frequency and distribution of different types of attacks (e.g., bombings, shootings).\n",
        "\n",
        "3 Feature Engineering:\n",
        "\n",
        "Extracting additional features from existing ones: For example, creating new features from the date column such as day of the week or season.\n",
        "Encoding categorical variables: Convert categorical variables into numerical representations using techniques like one-hot encoding or label encoding.\n",
        "Insights and Conclusions:\n",
        "\n",
        "Identify hotspots: Determine regions or countries with the highest number of incidents or casualties.\n",
        ""
      ],
      "metadata": {
        "id": "LbyXE7I1olp8"
      }
    },
    {
      "cell_type": "markdown",
      "source": [
        "## ***4. Data Vizualization, Storytelling & Experimenting with charts : Understand the relationships between variables***"
      ],
      "metadata": {
        "id": "GF8Ens_Soomf"
      }
    },
    {
      "cell_type": "markdown",
      "source": [
        "#### Chart - 1"
      ],
      "metadata": {
        "id": "0wOQAZs5pc--"
      }
    },
    {
      "cell_type": "code",
      "source": [
        "# Chart - 1 visualization code\n",
        "# A countplot is a type of categorical plot that shows the count of observations in each category of a categorical variable\n",
        "plt.figure(figsize=(12, 6))\n",
        "sns.countplot(x='iyear', data=df, palette='viridis')\n",
        "plt.title('Number of Attacks per Year')\n",
        "plt.xlabel('Year')\n",
        "plt.ylabel('Number of Attacks')\n",
        "plt.xticks(rotation=90)\n",
        "plt.show()"
      ],
      "metadata": {
        "id": "7v_ESjsspbW7"
      },
      "execution_count": null,
      "outputs": []
    },
    {
      "cell_type": "markdown",
      "source": [
        "##### 1. Why did you pick the specific chart?"
      ],
      "metadata": {
        "id": "K5QZ13OEpz2H"
      }
    },
    {
      "cell_type": "markdown",
      "source": [
        "Count plot, which is suitable for visualizing the distribution of categorical variables. In this case, it allows for the examination of the frequency of terrorist attacks over different years.\n",
        "\n"
      ],
      "metadata": {
        "id": "XESiWehPqBRc"
      }
    },
    {
      "cell_type": "markdown",
      "source": [
        "##### 2. What is/are the insight(s) found from the chart?"
      ],
      "metadata": {
        "id": "lQ7QKXXCp7Bj"
      }
    },
    {
      "cell_type": "markdown",
      "source": [
        "Insights from the chart:\n",
        "\n",
        "The count plot displays the number of terrorist attacks that occurred in each year, providing insight into the trend and frequency of attacks over time.\n",
        "\n",
        "It helps identify any significant increases or decreases in the number of attacks in specific years, highlighting periods of heightened or reduced terrorist activity."
      ],
      "metadata": {
        "id": "C_j1G7yiqdRP"
      }
    },
    {
      "cell_type": "markdown",
      "source": [
        "##### 3. Will the gained insights help creating a positive business impact?\n",
        "Are there any insights that lead to negative growth? Justify with specific reason."
      ],
      "metadata": {
        "id": "448CDAPjqfQr"
      }
    },
    {
      "cell_type": "markdown",
      "source": [
        "\n",
        "\n",
        "\n",
        "\n",
        "*    The insights gained from the chart can inform strategic planning and resource allocation for businesses operating in regions prone to terrorist attacks.\n",
        "*   Understanding the trend of attacks over time can help businesses anticipate and prepare for potential security risks, enabling them to implement appropriate security measures and crisis management plans.\n",
        "\n"
      ],
      "metadata": {
        "id": "3cspy4FjqxJW"
      }
    },
    {
      "cell_type": "markdown",
      "source": [
        "#### Chart - 2"
      ],
      "metadata": {
        "id": "KSlN3yHqYklG"
      }
    },
    {
      "cell_type": "code",
      "source": [
        "# Chart - 2 visualization code\n",
        "plt.figure(figsize=(12, 6))\n",
        "sns.countplot(y='attacktype1_txt', data=df, palette='viridis', order=df['attacktype1_txt'].value_counts().index)\n",
        "plt.title('Distribution of Attack Types')\n",
        "plt.xlabel('Count')\n",
        "plt.ylabel('Attack Type')\n",
        "plt.show()"
      ],
      "metadata": {
        "id": "R4YgtaqtYklH"
      },
      "execution_count": null,
      "outputs": []
    },
    {
      "cell_type": "markdown",
      "source": [
        "##### 1. Why did you pick the specific chart?"
      ],
      "metadata": {
        "id": "t6dVpIINYklI"
      }
    },
    {
      "cell_type": "markdown",
      "source": [
        "**A horizontal countplot is suitable for showing the distribution of attack types, making it easier to read long category names**\n",
        "\n"
      ],
      "metadata": {
        "id": "5aaW0BYyYklI"
      }
    },
    {
      "cell_type": "markdown",
      "source": [
        "##### 2. What is/are the insight(s) found from the chart?"
      ],
      "metadata": {
        "id": "ijmpgYnKYklI"
      }
    },
    {
      "cell_type": "markdown",
      "source": [
        "* The count plot displays the number of occurrences of each type of terrorist attack, providing insight into the prevalence and distribution of various attack types.\n",
        "* It helps identify the most common types of terrorist attacks, such as bombings, armed assaults, or hostage-taking, which can inform risk assessment and security planning for businesses."
      ],
      "metadata": {
        "id": "PSx9atu2YklI"
      }
    },
    {
      "cell_type": "markdown",
      "source": [
        "##### 3. Will the gained insights help creating a positive business impact?\n",
        "Are there any insights that lead to negative growth? Justify with specific reason."
      ],
      "metadata": {
        "id": "-JiQyfWJYklI"
      }
    },
    {
      "cell_type": "markdown",
      "source": [
        "* Positive impact: Insights inform security measures, crisis plans, and resource allocation, safeguarding stakeholders and assets.\n",
        "\n",
        "* Negative impact: High prevalence of destructive attacks raises safety concerns, leads to increased costs, disruptions, and reputational damage, urging proactive security measures."
      ],
      "metadata": {
        "id": "BcBbebzrYklV"
      }
    },
    {
      "cell_type": "markdown",
      "source": [
        "#### Chart - 3"
      ],
      "metadata": {
        "id": "EM7whBJCYoAo"
      }
    },
    {
      "cell_type": "code",
      "source": [
        "# Chart - 3 visualization code\n",
        "plt.figure(figsize=(15, 10))\n",
        "attacks_by_country_year = df.groupby(['iyear', 'country_txt']).size().unstack().fillna(0)\n",
        "sns.heatmap(attacks_by_country_year, cmap='viridis') #A heatmap is a graphical representation of data where the individual values contained in a matrix are represented as colors.\n",
        "plt.title('Heatmap of Attacks by Country and Year')\n",
        "plt.xlabel('Country')\n",
        "plt.ylabel('Year')\n",
        "plt.show()\n"
      ],
      "metadata": {
        "id": "t6GMdE67YoAp"
      },
      "execution_count": null,
      "outputs": []
    },
    {
      "cell_type": "markdown",
      "source": [
        "##### 1. Why did you pick the specific chart?"
      ],
      "metadata": {
        "id": "fge-S5ZAYoAp"
      }
    },
    {
      "cell_type": "markdown",
      "source": [
        "* A heatmap is useful for visualizing the intensity of attacks over time across different countries."
      ],
      "metadata": {
        "id": "5dBItgRVYoAp"
      }
    },
    {
      "cell_type": "markdown",
      "source": [
        "##### 2. What is/are the insight(s) found from the chart?"
      ],
      "metadata": {
        "id": "85gYPyotYoAp"
      }
    },
    {
      "cell_type": "markdown",
      "source": [
        "* The heatmap displays the intensity of terrorist attacks by country and year, with darker colors indicating higher frequencies of attacks.\n",
        "\n",
        "* It helps identify regions and time periods with elevated levels of terrorist activity, highlighting areas of heightened risk and vulnerability."
      ],
      "metadata": {
        "id": "4jstXR6OYoAp"
      }
    },
    {
      "cell_type": "markdown",
      "source": [
        "##### 3. Will the gained insights help creating a positive business impact?\n",
        "Are there any insights that lead to negative growth? Justify with specific reason."
      ],
      "metadata": {
        "id": "RoGjAbkUYoAp"
      }
    },
    {
      "cell_type": "markdown",
      "source": [
        "* Positive impact: Insights guide strategic decisions, resource allocation, and security measures for risk mitigation.\n",
        "\n",
        "* Negative impact: Concentrated attacks in specific regions raise safety concerns, lead to increased costs, disruptions, and reputational damage, urging proactive risk management strategies."
      ],
      "metadata": {
        "id": "zfJ8IqMcYoAp"
      }
    },
    {
      "cell_type": "markdown",
      "source": [
        "#### Chart - 4"
      ],
      "metadata": {
        "id": "4Of9eVA-YrdM"
      }
    },
    {
      "cell_type": "code",
      "source": [
        "# Chart - 4 visualization code\n",
        "plt.figure(figsize=(12, 6))\n",
        "sns.boxplot(x='attacktype1_txt', y='casualties', data=df, palette='viridis')\n",
        "plt.title('Casualties by Attack Type')\n",
        "plt.xlabel('Attack Type')\n",
        "plt.ylabel('Casualties')\n",
        "plt.xticks(rotation=90)\n",
        "plt.show()\n"
      ],
      "metadata": {
        "id": "irlUoxc8YrdO"
      },
      "execution_count": null,
      "outputs": []
    },
    {
      "cell_type": "markdown",
      "source": [
        "##### 1. Why did you pick the specific chart?"
      ],
      "metadata": {
        "id": "iky9q4vBYrdO"
      }
    },
    {
      "cell_type": "markdown",
      "source": [
        "**A boxplot is effective for showing the distribution and outliers in casualties for different attack types.**"
      ],
      "metadata": {
        "id": "aJRCwT6DYrdO"
      }
    },
    {
      "cell_type": "markdown",
      "source": [
        "##### 2. What is/are the insight(s) found from the chart?"
      ],
      "metadata": {
        "id": "F6T5p64dYrdO"
      }
    },
    {
      "cell_type": "markdown",
      "source": [
        "* The box plot displays the median, quartiles, and potential outliers of casualties for each attack type, providing insight into the central tendency and variability of casualties within each category.\n",
        "\n",
        "* It helps identify variations in casualty levels across different types of terrorist attacks, such as whether certain attack types tend to result in higher or lower casualty"
      ],
      "metadata": {
        "id": "Xx8WAJvtYrdO"
      }
    },
    {
      "cell_type": "markdown",
      "source": [
        "##### 3. Will the gained insights help creating a positive business impact?\n",
        "Are there any insights that lead to negative growth? Justify with specific reason."
      ],
      "metadata": {
        "id": "y-Ehk30pYrdP"
      }
    },
    {
      "cell_type": "markdown",
      "source": [
        "* Positive impact: Insights guide decision-making, resource allocation, and security measures, enhancing preparedness and response to mitigate risks.\n",
        "\n",
        "* Negative impact: High casualties from certain attack types raise security concerns, lead to increased risks, disruptions, and reputational damage, urging proactive risk mitigation strategies."
      ],
      "metadata": {
        "id": "jLNxxz7MYrdP"
      }
    },
    {
      "cell_type": "markdown",
      "source": [
        "#### Chart - 5"
      ],
      "metadata": {
        "id": "bamQiAODYuh1"
      }
    },
    {
      "cell_type": "code",
      "source": [
        "# Chart - 5 visualization code\n",
        "plt.figure(figsize=(12, 8))\n",
        "wordcloud = WordCloud(width=800, height=400, background_color='white').generate(' '.join(df['gname'].dropna()))\n",
        "plt.imshow(wordcloud, interpolation='bilinear')\n",
        "plt.axis('off')\n",
        "plt.title('Word Cloud of Active Organizations')\n",
        "plt.show()\n"
      ],
      "metadata": {
        "id": "TIJwrbroYuh3"
      },
      "execution_count": null,
      "outputs": []
    },
    {
      "cell_type": "markdown",
      "source": [
        "##### 1. Why did you pick the specific chart?"
      ],
      "metadata": {
        "id": "QHF8YVU7Yuh3"
      }
    },
    {
      "cell_type": "markdown",
      "source": [
        "* The specific chart chosen is a word cloud, which is suitable for visualizing the frequency of words or terms in a text corpus. In this case, it allows for the exploration of the most active terrorist organizations based on the frequency of their occurrences in the dataset.\n",
        "\n"
      ],
      "metadata": {
        "id": "dcxuIMRPYuh3"
      }
    },
    {
      "cell_type": "markdown",
      "source": [
        "##### 2. What is/are the insight(s) found from the chart?"
      ],
      "metadata": {
        "id": "GwzvFGzlYuh3"
      }
    },
    {
      "cell_type": "markdown",
      "source": [
        "* The word cloud visually represents the relative prevalence of different terrorist organizations based on the size of their names in the cloud.\n",
        "It helps identify the most active and prominent terrorist organizations, as larger words indicate higher frequencies of occurrence in the dataset."
      ],
      "metadata": {
        "id": "uyqkiB8YYuh3"
      }
    },
    {
      "cell_type": "markdown",
      "source": [
        "##### 3. Will the gained insights help creating a positive business impact?\n",
        "Are there any insights that lead to negative growth? Justify with specific reason."
      ],
      "metadata": {
        "id": "qYpmQ266Yuh3"
      }
    },
    {
      "cell_type": "markdown",
      "source": [
        " * Identifying the most active terrorist organizations can help in targeting counter-terrorism efforts and intelligence operations."
      ],
      "metadata": {
        "id": "_WtzZ_hCYuh4"
      }
    },
    {
      "cell_type": "markdown",
      "source": [
        "#### Chart - 6"
      ],
      "metadata": {
        "id": "OH-pJp9IphqM"
      }
    },
    {
      "cell_type": "code",
      "source": [
        "# Chart - 6 visualization code\n",
        "plt.figure(figsize=(12, 6))\n",
        "sns.countplot(y='targtype1_txt', data=df, palette='viridis', order=df['targtype1_txt'].value_counts().index)\n",
        "plt.title('Distribution of Target Types')\n",
        "plt.xlabel('Count')\n",
        "plt.ylabel('Target Type')\n",
        "plt.show()"
      ],
      "metadata": {
        "id": "kuRf4wtuphqN"
      },
      "execution_count": null,
      "outputs": []
    },
    {
      "cell_type": "markdown",
      "source": [
        "##### 1. Why did you pick the specific chart?"
      ],
      "metadata": {
        "id": "bbFf2-_FphqN"
      }
    },
    {
      "cell_type": "markdown",
      "source": [
        "* The specific chart chosen is a horizontal count plot, which is suitable for visualizing the distribution of a categorical variable (target type) by frequency. This chart allows for easy comparison of the occurrence of different target types.\n",
        "\n"
      ],
      "metadata": {
        "id": "loh7H2nzphqN"
      }
    },
    {
      "cell_type": "markdown",
      "source": [
        "##### 2. What is/are the insight(s) found from the chart?"
      ],
      "metadata": {
        "id": "_ouA3fa0phqN"
      }
    },
    {
      "cell_type": "markdown",
      "source": [
        "* The count plot displays the number of occurrences of each target type, providing insight into the prevalence of targeting specific entities or objectives in terrorist attacks.\n",
        "It helps identify which types of targets are most frequently attacked, such as civilians, military personnel, government officials, or private property."
      ],
      "metadata": {
        "id": "VECbqPI7phqN"
      }
    },
    {
      "cell_type": "markdown",
      "source": [
        "##### 3. Will the gained insights help creating a positive business impact?\n",
        "Are there any insights that lead to negative growth? Justify with specific reason."
      ],
      "metadata": {
        "id": "Seke61FWphqN"
      }
    },
    {
      "cell_type": "markdown",
      "source": [
        "* Positive impact: Insights guide security measures, risk assessments, and crisis plans, enhancing preparedness and safeguarding operations.\n",
        "\n",
        "* Negative impact: Targeting critical infrastructure or specific sectors raises security concerns, leads to increased risks, disruptions, and economic impacts, urging proactive risk mitigation strategies."
      ],
      "metadata": {
        "id": "DW4_bGpfphqN"
      }
    },
    {
      "cell_type": "markdown",
      "source": [
        "#### Chart - 7"
      ],
      "metadata": {
        "id": "PIIx-8_IphqN"
      }
    },
    {
      "cell_type": "code",
      "source": [
        "# Chart - 7 visualization code\n",
        "plt.figure(figsize=(12, 6))\n",
        "sns.countplot(y='weaptype1_txt', data=df, palette='viridis', order=df['weaptype1_txt'].value_counts().index)\n",
        "plt.title('Distribution of Weapon Types')\n",
        "plt.xlabel('Count')\n",
        "plt.ylabel('Weapon Type')\n",
        "plt.show()"
      ],
      "metadata": {
        "id": "lqAIGUfyphqO"
      },
      "execution_count": null,
      "outputs": []
    },
    {
      "cell_type": "markdown",
      "source": [
        "##### 1. Why did you pick the specific chart?"
      ],
      "metadata": {
        "id": "t27r6nlMphqO"
      }
    },
    {
      "cell_type": "markdown",
      "source": [
        "**A horizontal countplot shows the distribution of weapon types used in attacks, making it easier to read long category names.**"
      ],
      "metadata": {
        "id": "iv6ro40sphqO"
      }
    },
    {
      "cell_type": "markdown",
      "source": [
        "##### 2. What is/are the insight(s) found from the chart?"
      ],
      "metadata": {
        "id": "r2jJGEOYphqO"
      }
    },
    {
      "cell_type": "markdown",
      "source": [
        " **The chart indicates that 'Explosives/Bombs/Dynamite' are the most commonly used weapons in terrorist attacks.**"
      ],
      "metadata": {
        "id": "Po6ZPi4hphqO"
      }
    },
    {
      "cell_type": "markdown",
      "source": [
        "##### 3. Will the gained insights help creating a positive business impact?\n",
        "Are there any insights that lead to negative growth? Justify with specific reason."
      ],
      "metadata": {
        "id": "b0JNsNcRphqO"
      }
    },
    {
      "cell_type": "markdown",
      "source": [
        "**Identifying the most frequently used weapons can assist in developing targeted countermeasures and detection methods.**"
      ],
      "metadata": {
        "id": "xvSq8iUTphqO"
      }
    },
    {
      "cell_type": "markdown",
      "source": [
        "#### Chart - 8"
      ],
      "metadata": {
        "id": "BZR9WyysphqO"
      }
    },
    {
      "cell_type": "code",
      "source": [
        "# Chart - 8 visualization code\n",
        "plt.figure(figsize=(12, 6))\n",
        "sns.boxplot(x='region_txt', y='casualties', data=df, palette='viridis')\n",
        "plt.title('Casualties by Region')\n",
        "plt.xlabel('Region')\n",
        "plt.ylabel('Casualties')\n",
        "plt.xticks(rotation=90)\n",
        "plt.show()"
      ],
      "metadata": {
        "id": "TdPTWpAVphqO"
      },
      "execution_count": null,
      "outputs": []
    },
    {
      "cell_type": "markdown",
      "source": [
        "##### 1. Why did you pick the specific chart?"
      ],
      "metadata": {
        "id": "jj7wYXLtphqO"
      }
    },
    {
      "cell_type": "markdown",
      "source": [
        "* The specific chart chosen is a boxplot, which is suitable for visualizing the distribution of a continuous variable (casualties) across different categories (regions). In this case, it allows for easy comparison of casualty levels across various regions."
      ],
      "metadata": {
        "id": "Ob8u6rCTphqO"
      }
    },
    {
      "cell_type": "markdown",
      "source": [
        "##### 2. What is/are the insight(s) found from the chart?"
      ],
      "metadata": {
        "id": "eZrbJ2SmphqO"
      }
    },
    {
      "cell_type": "markdown",
      "source": [
        "* The boxplot reveals the central tendency, spread, and presence of outliers in casualties across different regions.\n",
        "* It helps identify regions with higher or lower casualty rates, providing insight into the severity and impact of terrorist attacks in those areas.\n",
        "* Any significant differences in casualty levels between regions can be easily discerned.**"
      ],
      "metadata": {
        "id": "mZtgC_hjphqO"
      }
    },
    {
      "cell_type": "markdown",
      "source": [
        "##### 3. Will the gained insights help creating a positive business impact?\n",
        "Are there any insights that lead to negative growth? Justify with specific reason."
      ],
      "metadata": {
        "id": "rFu4xreNphqO"
      }
    },
    {
      "cell_type": "markdown",
      "source": [
        "* Positive business impact:\n",
        "The insights gained from the chart can aid policymakers and security agencies in allocating resources and implementing measures to mitigate the impact of terrorism in regions with higher casualty rates.\n",
        "Understanding the variation in casualty levels across different regions can inform the development of targeted intervention strategies to enhance security and minimize harm.\n",
        "\n",
        "* Negative growth:\n",
        "While the insights themselves may not directly lead to negative growth, regions with consistently high casualty rates may indicate areas of heightened instability and insecurity. This could potentially deter investment, tourism, and economic development in those regions, leading to negative socio-economic consequences.\n",
        ""
      ],
      "metadata": {
        "id": "ey_0qi68phqO"
      }
    },
    {
      "cell_type": "markdown",
      "source": [
        "#### Chart - 9"
      ],
      "metadata": {
        "id": "YJ55k-q6phqO"
      }
    },
    {
      "cell_type": "code",
      "source": [
        "# Chart - 9 visualization code\n",
        "plt.figure(figsize=(12, 6))\n",
        "sns.lineplot(x='iyear', y='casualties', data=df, ci=None, palette='viridis')\n",
        "plt.title('Trend of Casualties over the Years')\n",
        "plt.xlabel('Year')\n",
        "plt.ylabel('Casualties')\n",
        "plt.show()"
      ],
      "metadata": {
        "id": "B2aS4O1ophqO"
      },
      "execution_count": null,
      "outputs": []
    },
    {
      "cell_type": "markdown",
      "source": [
        "##### 1. Why did you pick the specific chart?"
      ],
      "metadata": {
        "id": "gCFgpxoyphqP"
      }
    },
    {
      "cell_type": "markdown",
      "source": [
        "* The specific chart chosen is a line plot, which is suitable for visualizing trends and changes in a continuous variable (casualties) over time (years). In this case, it allows for the examination of how casualties from terrorist attacks have evolved over the years."
      ],
      "metadata": {
        "id": "TVxDimi2phqP"
      }
    },
    {
      "cell_type": "markdown",
      "source": [
        "##### 2. What is/are the insight(s) found from the chart?"
      ],
      "metadata": {
        "id": "OVtJsKN_phqQ"
      }
    },
    {
      "cell_type": "markdown",
      "source": [
        "*  Insights from the chart:\n",
        "   - The line plot reveals the overall trend in casualties from terrorist attacks over the years, showing whether casualty levels have increased, decreased, or remained stable.\n",
        "   - It helps identify periods of significant change or spikes in casualty rates, which may coincide with particular events, conflicts, or policy interventions.\n",
        "   - Any long-term patterns or trends in casualty rates can be observed, providing insight into the effectiveness of counter-terrorism efforts over time.\n"
      ],
      "metadata": {
        "id": "ngGi97qjphqQ"
      }
    },
    {
      "cell_type": "markdown",
      "source": [
        "##### 3. Will the gained insights help creating a positive business impact?\n",
        "Are there any insights that lead to negative growth? Justify with specific reason."
      ],
      "metadata": {
        "id": "lssrdh5qphqQ"
      }
    },
    {
      "cell_type": "markdown",
      "source": [
        "* Positive business impact:\n",
        "The insights gained from the chart can inform policymakers, security agencies, and businesses about the changing nature and magnitude of the terrorist threat over time.\n",
        "By understanding historical trends in casualties, stakeholders can better anticipate future risks and tailor their strategies and responses accordingly, potentially reducing the impact of terrorist attacks on businesses and communities.\n",
        "* Negative growth:\n",
        "If the analysis reveals a consistent upward trend in casualties over the years, it may indicate a worsening security situation and increased risk of terrorist attacks. This could lead to negative consequences for businesses, such as heightened security costs, decreased consumer confidence, and disruptions to operation."
      ],
      "metadata": {
        "id": "tBpY5ekJphqQ"
      }
    },
    {
      "cell_type": "markdown",
      "source": [
        "#### Chart - 10"
      ],
      "metadata": {
        "id": "U2RJ9gkRphqQ"
      }
    },
    {
      "cell_type": "code",
      "source": [
        "# Chart - 10 visualization code\n",
        "plt.figure(figsize=(12, 6))\n",
        "sns.countplot(y='natlty1_txt', data=df, palette='viridis', order=df['natlty1_txt'].value_counts().index)\n",
        "plt.title('Distribution of Victims Nationalities')\n",
        "plt.xlabel('Count')\n",
        "plt.ylabel('Nationality')\n",
        "plt.show()"
      ],
      "metadata": {
        "id": "GM7a4YP4phqQ"
      },
      "execution_count": null,
      "outputs": []
    },
    {
      "cell_type": "markdown",
      "source": [
        "##### 1. Why did you pick the specific chart?"
      ],
      "metadata": {
        "id": "1M8mcRywphqQ"
      }
    },
    {
      "cell_type": "markdown",
      "source": [
        "* The specific chart chosen is a count plot, which is suitable for visualizing the distribution of categorical variables. In this case, it allows for the exploration of the distribution of victim nationalities, providing insights into the composition of victims across different countries."
      ],
      "metadata": {
        "id": "8agQvks0phqQ"
      }
    },
    {
      "cell_type": "markdown",
      "source": [
        "##### 2. What is/are the insight(s) found from the chart?"
      ],
      "metadata": {
        "id": "tgIPom80phqQ"
      }
    },
    {
      "cell_type": "markdown",
      "source": [
        "\n",
        "   - The count plot displays the frequency of victims from various nationalities, offering an overview of which nationalities are most affected by terrorist attacks.\n",
        "   - It helps identify the most common nationalities among victims, highlighting potential patterns or trends in targeting specific groups or regions.\n",
        "   - Any disparities in victim nationalities can be observed, which may indicate areas of vulnerability or targeting by terrorist organizations.\n"
      ],
      "metadata": {
        "id": "Qp13pnNzphqQ"
      }
    },
    {
      "cell_type": "markdown",
      "source": [
        "##### 3. Will the gained insights help creating a positive business impact?\n",
        "Are there any insights that lead to negative growth? Justify with specific reason."
      ],
      "metadata": {
        "id": "JMzcOPDDphqR"
      }
    },
    {
      "cell_type": "markdown",
      "source": [
        "* Positive business impact:\n",
        "   - The insights gained from the chart can be valuable for businesses operating in regions with high numbers of victims from specific nationalities.\n",
        "   - Understanding the distribution of victim nationalities can inform risk assessment and crisis management strategies, allowing businesses to better protect employees, customers, and assets.\n",
        "    \n",
        "\n",
        "* Negative growth:\n",
        "   - If the analysis reveals a disproportionately high number of victims from certain nationalities, particularly those associated with key markets or business operations, it may raise concerns about safety and security for employees and customers from those countries.\n",
        "   - Terrorist attacks targeting specific nationalities can lead to negative perceptions of safety and stability in affected regions, potentially deterring tourism, investment, and business activities."
      ],
      "metadata": {
        "id": "R4Ka1PC2phqR"
      }
    },
    {
      "cell_type": "markdown",
      "source": [
        "#### Chart - 11"
      ],
      "metadata": {
        "id": "x-EpHcCOp1ci"
      }
    },
    {
      "cell_type": "code",
      "source": [
        "# Chart - 11 visualization code\n",
        "plt.figure(figsize=(12, 6))\n",
        "sns.countplot(x='success', data=df, palette='viridis')\n",
        "plt.title('Success Rate of Terrorist Attacks')\n",
        "plt.xlabel('Success (1: Yes, 0: No)')\n",
        "plt.ylabel('Count')\n",
        "plt.show()"
      ],
      "metadata": {
        "id": "mAQTIvtqp1cj"
      },
      "execution_count": null,
      "outputs": []
    },
    {
      "cell_type": "markdown",
      "source": [
        "##### 1. Why did you pick the specific chart?"
      ],
      "metadata": {
        "id": "X_VqEhTip1ck"
      }
    },
    {
      "cell_type": "markdown",
      "source": [
        " * The choice of a count plot in the presented visualization is apt for assessing the distribution of terrorist attack outcomes categorized as either successful or unsuccessful. This type of plot provides a clear representation of the frequency of each outcome category, facilitating an understanding of the overall success rate of terrorist attacks recorded in the dataset."
      ],
      "metadata": {
        "id": "-vsMzt_np1ck"
      }
    },
    {
      "cell_type": "markdown",
      "source": [
        "##### 2. What is/are the insight(s) found from the chart?"
      ],
      "metadata": {
        "id": "8zGJKyg5p1ck"
      }
    },
    {
      "cell_type": "markdown",
      "source": [
        "\n",
        "   - The count plot displays the frequency of successful and unsuccessful terrorist attacks, offering an overview of the distribution of success outcomes.\n",
        "   - It helps identify the proportion of attacks that are successful versus unsuccessful, providing insight into the effectiveness of terrorist tactics and security measures.\n",
        "   - Any disparities in success rates across different regions or time periods can be observed, which may indicate variations in counter-terrorism capabilities or vulnerabilities.\n"
      ],
      "metadata": {
        "id": "ZYdMsrqVp1ck"
      }
    },
    {
      "cell_type": "markdown",
      "source": [
        "##### 3. Will the gained insights help creating a positive business impact?\n",
        "Are there any insights that lead to negative growth? Justify with specific reason."
      ],
      "metadata": {
        "id": "PVzmfK_Ep1ck"
      }
    },
    {
      "cell_type": "markdown",
      "source": [
        "* Positive business impact:\n",
        "   - The insights gained from the chart can inform risk assessment and security planning for businesses operating in regions prone to terrorist attacks.\n",
        "   - Understanding the success rate of terrorist attacks can help businesses implement appropriate security measures to mitigate risks and protect employees, customers, and assets.\n",
        "    \n",
        "\n",
        "* Negative growth:\n",
        "   - If the analysis reveals a high success rate of terrorist attacks in certain regions or industries, it may raise concerns about safety and security for businesses operating in those areas.\n",
        "   - Terrorist attacks with high success rates can lead to disruptions to business operations, damage to infrastructure, and loss of life or property, resulting in negative economic impacts and reputational damage.\n",
        "    "
      ],
      "metadata": {
        "id": "druuKYZpp1ck"
      }
    },
    {
      "cell_type": "markdown",
      "source": [
        "#### Chart - 12"
      ],
      "metadata": {
        "id": "n3dbpmDWp1ck"
      }
    },
    {
      "cell_type": "code",
      "source": [
        "# Chart - 12 visualization code\n",
        "import geopandas as gpd\n",
        "world = gpd.read_file(gpd.datasets.get_path('naturalearth_lowres'))\n",
        "df['count'] = 1\n",
        "attacks_by_country = df.groupby('country_txt')['count'].sum().reset_index()\n",
        "world = world.merge(attacks_by_country, how='left', left_on='name', right_on='country_txt')\n",
        "world.plot(column='count', cmap='Reds', figsize=(15, 10), legend=True)\n",
        "plt.title('Geographical Distribution of Terrorist Attacks')\n",
        "plt.show()"
      ],
      "metadata": {
        "id": "bwevp1tKp1ck"
      },
      "execution_count": null,
      "outputs": []
    },
    {
      "cell_type": "markdown",
      "source": [
        "##### 1. Why did you pick the specific chart?"
      ],
      "metadata": {
        "id": "ylSl6qgtp1ck"
      }
    },
    {
      "cell_type": "markdown",
      "source": [
        "* The specific chart chosen is a choropleth map, which is suitable for visualizing spatial distributions or patterns across geographic regions. In this case, it allows for the exploration of the geographical distribution of terrorist attacks by country.\n",
        "\n"
      ],
      "metadata": {
        "id": "m2xqNkiQp1ck"
      }
    },
    {
      "cell_type": "markdown",
      "source": [
        "##### 2. What is/are the insight(s) found from the chart?"
      ],
      "metadata": {
        "id": "ZWILFDl5p1ck"
      }
    },
    {
      "cell_type": "markdown",
      "source": [
        "*\n",
        "\n",
        "The choropleth map displays the intensity of terrorist attacks by country, with darker shades indicating higher frequencies of attacks.\n",
        "It helps identify regions or countries with elevated levels of terrorist activity, highlighting areas of heightened security risk and vulnerability."
      ],
      "metadata": {
        "id": "x-lUsV2mp1ck"
      }
    },
    {
      "cell_type": "markdown",
      "source": [
        "##### 3. Will the gained insights help creating a positive business impact?\n",
        "Are there any insights that lead to negative growth? Justify with specific reason."
      ],
      "metadata": {
        "id": "M7G43BXep1ck"
      }
    },
    {
      "cell_type": "markdown",
      "source": [
        "* Positive impact: Insights guide global operations, supply chain management, and travel risk assessments, enhancing security and safeguarding operations.\n",
        "\n",
        "* Negative impact: High frequencies of attacks in certain regions raise safety concerns, increase security risks, disrupt operations, and damage reputation, leading to negative growth and economic impacts."
      ],
      "metadata": {
        "id": "5wwDJXsLp1cl"
      }
    },
    {
      "cell_type": "markdown",
      "source": [
        "#### Chart - 13"
      ],
      "metadata": {
        "id": "Ag9LCva-p1cl"
      }
    },
    {
      "cell_type": "code",
      "source": [
        "# Chart - 13 visualization code\n",
        "plt.figure(figsize=(10, 8))\n",
        "df['gname'].value_counts().head(10).plot(kind='pie', autopct='%1.1f%%', colors=sns.color_palette('Set3', 10))\n",
        "plt.title('Top 10 Terrorist Groups Responsible')\n",
        "plt.ylabel('')\n",
        "plt.show()"
      ],
      "metadata": {
        "id": "EUfxeq9-p1cl"
      },
      "execution_count": null,
      "outputs": []
    },
    {
      "cell_type": "markdown",
      "source": [
        "##### 1. Why did you pick the specific chart?"
      ],
      "metadata": {
        "id": "E6MkPsBcp1cl"
      }
    },
    {
      "cell_type": "markdown",
      "source": [
        "* The specific chart chosen is a pie chart, which is suitable for visualizing the proportion of different categories within a whole. In this case, it allows for the exploration of the top 10 terrorist groups responsible for attacks.\n",
        "\n",
        "\n"
      ],
      "metadata": {
        "id": "V22bRsFWp1cl"
      }
    },
    {
      "cell_type": "markdown",
      "source": [
        "##### 2. What is/are the insight(s) found from the chart?"
      ],
      "metadata": {
        "id": "2cELzS2fp1cl"
      }
    },
    {
      "cell_type": "markdown",
      "source": [
        "* The pie chart displays the relative proportions of attacks attributed to the top 10 terrorist groups, providing insight into which groups are most active.\n",
        "It helps identify the most prominent terrorist organizations based on their frequency of attacks.\n"
      ],
      "metadata": {
        "id": "ozQPc2_Ip1cl"
      }
    },
    {
      "cell_type": "markdown",
      "source": [
        "##### 3. Will the gained insights help creating a positive business impact?\n",
        "Are there any insights that lead to negative growth? Justify with specific reason."
      ],
      "metadata": {
        "id": "3MPXvC8up1cl"
      }
    },
    {
      "cell_type": "markdown",
      "source": [
        "* Positive impact:\n",
        "Insights from the pie chart inform decision-making for security measures, risk assessments, and crisis management plans. Understanding top terrorist groups helps businesses assess specific threats and implement targeted security measures and response strategies.\n",
        "\n",
        "* Negative impact:\n",
        "A high proportion of attacks by notorious groups raises safety and security concerns in affected areas. Businesses in these regions may face increased security risks, operational disruptions, and reputational damage, leading to negative growth and economic impacts."
      ],
      "metadata": {
        "id": "GL8l1tdLp1cl"
      }
    },
    {
      "cell_type": "markdown",
      "source": [
        "#### Chart - 14 - Correlation Heatmap"
      ],
      "metadata": {
        "id": "NC_X3p0fY2L0"
      }
    },
    {
      "cell_type": "code",
      "source": [
        "# Correlation Heatmap visualization code\n",
        "plt.figure(figsize=(12, 8))\n",
        "numerical_features = df.select_dtypes(include=[np.number])\n",
        "correlation_matrix = numerical_features.corr()\n",
        "sns.heatmap(correlation_matrix, annot=True, cmap='viridis')\n",
        "plt.title('Correlation Heatmap of Numerical Features')\n",
        "plt.show()"
      ],
      "metadata": {
        "id": "xyC9zolEZNRQ"
      },
      "execution_count": null,
      "outputs": []
    },
    {
      "cell_type": "markdown",
      "source": [
        "##### 1. Why did you pick the specific chart?"
      ],
      "metadata": {
        "id": "UV0SzAkaZNRQ"
      }
    },
    {
      "cell_type": "markdown",
      "source": [
        "* A correlation heatmap is ideal for visualizing the relationships between numerical features. It provides a clear and comprehensive view of how variables are correlated with each other.\n"
      ],
      "metadata": {
        "id": "DVPuT8LYZNRQ"
      }
    },
    {
      "cell_type": "markdown",
      "source": [
        "##### 2. What is/are the insight(s) found from the chart?"
      ],
      "metadata": {
        "id": "YPEH6qLeZNRQ"
      }
    },
    {
      "cell_type": "markdown",
      "source": [
        "*  \n",
        "The heatmap shows the strength and direction of correlations between numerical features, with annotations indicating the correlation coefficients. This helps identify pairs of features that are strongly positively or negatively correlated."
      ],
      "metadata": {
        "id": "bfSqtnDqZNRR"
      }
    },
    {
      "cell_type": "markdown",
      "source": [
        "#### Chart - 15 - Pair Plot"
      ],
      "metadata": {
        "id": "q29F0dvdveiT"
      }
    },
    {
      "cell_type": "code",
      "source": [
        "# Pair Plot visualization code\n",
        "plt.figure(figsize=(12, 8))\n",
        "selected_features = ['nkill', 'nwound', 'casualties', 'iyear']\n",
        "sns.pairplot(df[selected_features])\n",
        "plt.title('Pair Plot of Selected Numerical Features')\n",
        "plt.show()\n"
      ],
      "metadata": {
        "id": "o58-TEIhveiU"
      },
      "execution_count": null,
      "outputs": []
    },
    {
      "cell_type": "markdown",
      "source": [
        "##### 1. Why did you pick the specific chart?"
      ],
      "metadata": {
        "id": "EXh0U9oCveiU"
      }
    },
    {
      "cell_type": "markdown",
      "source": [
        " * The specific chart chosen is a pair plot, which is suitable for visualizing pairwise relationships between multiple numerical variables. In this case, it allows for the exploration of correlations and patterns among the selected numerical features (nkill, nwound, casualties, and iyear)."
      ],
      "metadata": {
        "id": "eMmPjTByveiU"
      }
    },
    {
      "cell_type": "markdown",
      "source": [
        "##### 2. What is/are the insight(s) found from the chart?"
      ],
      "metadata": {
        "id": "22aHeOlLveiV"
      }
    },
    {
      "cell_type": "markdown",
      "source": [
        "*\n",
        "The pair plot provides a visual overview of the relationships between the selected numerical features, including any linear or non-linear correlations.\n",
        "It helps identify potential associations or patterns between variables, such as the relationship between the number of killings (nkill) and the number of wounds (nwound), or the trend of casualties over the years (iyear).\n",
        "Any outliers or unusual patterns in the data can be observed, providing insight into potential anomalies or areas for further investigation."
      ],
      "metadata": {
        "id": "uPQ8RGwHveiV"
      }
    },
    {
      "cell_type": "markdown",
      "source": [
        "## **5. Solution to Business Objective**"
      ],
      "metadata": {
        "id": "JcMwzZxoAimU"
      }
    },
    {
      "cell_type": "markdown",
      "source": [
        "#### What do you suggest the client to achieve Business Objective ?\n"
      ],
      "metadata": {
        "id": "8G2x9gOozGDZ"
      }
    },
    {
      "cell_type": "markdown",
      "source": [
        "* Based on the analysis, I recommend focusing on regions and periods with high attack frequencies, prioritizing measures to address the most common attack types and target categories. Furthermore, enhancing security measures around high-casualty events and improving emergency response protocols can help in minimizing the impact of terrorist activities.\n",
        "\n",
        "* To achieve the business objective:\n",
        "\n",
        "1. **Assess Risks**: Identify high-risk areas and industries prone to terrorist activities.\n",
        "\n",
        "2. **Implement Security Measures**: Enhance security protocols and crisis management plans.\n",
        "\n",
        "3. **Train Employees**: Provide training to recognize and respond to security threats.\n",
        "\n",
        "4. **Utilize Technology**: Invest in advanced technologies for threat detection and communication.\n",
        "\n",
        "5. **Communicate Effectively**: Develop crisis communication plans and manage reputation.\n",
        "\n",
        "6. **Monitor and Adapt**: Continuously evaluate and update security measures based on evolving threats."
      ],
      "metadata": {
        "id": "pASKb0qOza21"
      }
    },
    {
      "cell_type": "markdown",
      "source": [
        "# **Conclusion**"
      ],
      "metadata": {
        "id": "gCX9965dhzqZ"
      }
    },
    {
      "cell_type": "markdown",
      "source": [
        "\n",
        "The analysis of the Global Terrorism Database provided significant insights into the patterns and trends of terrorist activities worldwide. Key findings include the most common attack types, target categories, and weapons used, as well as trends over time and across regions. These insights can inform effective counter-terrorism strategies and resource allocation to mitigate the impact of terrorist activities.\n"
      ],
      "metadata": {
        "id": "Fjb1IsQkh3yE"
      }
    },
    {
      "cell_type": "markdown",
      "source": [
        "### ***Hurrah! You have successfully completed your EDA Capstone Project !!!***"
      ],
      "metadata": {
        "id": "gIfDvo9L0UH2"
      }
    }
  ]
}